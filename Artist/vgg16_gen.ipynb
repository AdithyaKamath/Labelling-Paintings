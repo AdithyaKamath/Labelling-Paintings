{
 "cells": [
  {
   "cell_type": "code",
   "execution_count": 1,
   "metadata": {},
   "outputs": [
    {
     "name": "stderr",
     "output_type": "stream",
     "text": [
      "Using TensorFlow backend.\n",
      "C:\\Users\\lenovo\\Anaconda3\\envs\\py35\\lib\\site-packages\\h5py\\__init__.py:34: FutureWarning: Conversion of the second argument of issubdtype from `float` to `np.floating` is deprecated. In future, it will be treated as `np.float64 == np.dtype(float).type`.\n",
      "  from ._conv import register_converters as _register_converters\n"
     ]
    }
   ],
   "source": [
    "import pandas as pd \n",
    "import numpy as np\n",
    "import os\n",
    "from sklearn import preprocessing\n",
    "from sklearn.model_selection import train_test_split\n",
    "from keras.applications.vgg16 import VGG16\n",
    "from keras.preprocessing import image\n",
    "from keras.applications.vgg16 import preprocess_input\n",
    "from keras.models import Model\n",
    "from keras.utils import to_categorical\n",
    "from keras.optimizers import RMSprop\n",
    "from keras.layers import Dense, GlobalAveragePooling2D,Input,Flatten,Dropout\n",
    "from keras import regularizers\n",
    "from keras.callbacks import ModelCheckpoint, LearningRateScheduler, TensorBoard, EarlyStopping"
   ]
  },
  {
   "cell_type": "code",
   "execution_count": 2,
   "metadata": {
    "collapsed": true
   },
   "outputs": [],
   "source": [
    "path = \"C:/Users/lenovo/Documents/CS/6Sem/CG/newtrain/\""
   ]
  },
  {
   "cell_type": "code",
   "execution_count": 3,
   "metadata": {
    "collapsed": true
   },
   "outputs": [],
   "source": [
    "x_train = np.load(\"C:/Users/lenovo/Documents/CS/6Sem/CG/Labelling-Paintings/Data/x_train.npy\")\n",
    "x_test = np.load(\"C:/Users/lenovo/Documents/CS/6Sem/CG/Labelling-Paintings/Data/x_test.npy\")\n",
    "y_train = np.load(\"C:/Users/lenovo/Documents/CS/6Sem/CG/Labelling-Paintings/Data/y_train.npy\")\n",
    "y_test = np.load(\"C:/Users/lenovo/Documents/CS/6Sem/CG/Labelling-Paintings/Data/y_test.npy\")"
   ]
  },
  {
   "cell_type": "code",
   "execution_count": 4,
   "metadata": {},
   "outputs": [
    {
     "data": {
      "text/plain": [
       "((13680,), (13680,), (13680,), (1710,))"
      ]
     },
     "execution_count": 4,
     "metadata": {},
     "output_type": "execute_result"
    }
   ],
   "source": [
    "x_train.shape, x_test.shape, y_train.shape, y_test.shape"
   ]
  },
  {
   "cell_type": "code",
   "execution_count": 6,
   "metadata": {},
   "outputs": [
    {
     "name": "stdout",
     "output_type": "stream",
     "text": [
      "Number of classes: 57\n"
     ]
    }
   ],
   "source": [
    "le = preprocessing.LabelEncoder()\n",
    "le.fit(y_train)\n",
    "y_train = le.transform(y_train) \n",
    "y_test = le.transform(y_test)\n",
    "no_classes = len(np.unique(y_train))\n",
    "print(\"Number of classes: \" + str(no_classes))"
   ]
  },
  {
   "cell_type": "code",
   "execution_count": 7,
   "metadata": {},
   "outputs": [
    {
     "data": {
      "text/plain": [
       "array([30, 55, 26, ...,  3,  5, 55], dtype=int64)"
      ]
     },
     "execution_count": 7,
     "metadata": {},
     "output_type": "execute_result"
    }
   ],
   "source": [
    "y_train"
   ]
  },
  {
   "cell_type": "code",
   "execution_count": 8,
   "metadata": {
    "scrolled": true
   },
   "outputs": [],
   "source": [
    "y_train = to_categorical(y_train, num_classes = no_classes)\n",
    "y_test = to_categorical(y_test, num_classes = no_classes)"
   ]
  },
  {
   "cell_type": "code",
   "execution_count": 9,
   "metadata": {
    "collapsed": true
   },
   "outputs": [],
   "source": [
    "inter_model = VGG16(weights='imagenet', include_top=False)"
   ]
  },
  {
   "cell_type": "code",
   "execution_count": 10,
   "metadata": {
    "collapsed": true
   },
   "outputs": [],
   "source": [
    "def generator1(data,y, im_height = 224, im_width = 224, train = True):\n",
    "    while 1:\n",
    "        for i in range(len(data)//5):\n",
    "            labels = []\n",
    "            features = []\n",
    "            images = np.zeros((5,224,224,3))\n",
    "            for idx, image_path in enumerate(data[5*i:5*(i+1)]):\n",
    "                img = image.img_to_array(image.load_img(path + str(image_path)))\n",
    "                images[idx] = img\n",
    "                if(train):\n",
    "                    labels.append(y[idx])\n",
    "\n",
    "            images = preprocess_input(images)\n",
    "            features = inter_model.predict(images)\n",
    "            if(train):\n",
    "                labels = np.array(labels)\n",
    "                yield features, labels\n",
    "            else:\n",
    "                yield features"
   ]
  },
  {
   "cell_type": "code",
   "execution_count": 11,
   "metadata": {
    "collapsed": true
   },
   "outputs": [],
   "source": [
    "input_layer = Input(shape=(7,7,512))\n",
    "f1=Flatten()(input_layer)\n",
    "y = Dense(1024, activation='relu',kernel_initializer='glorot_normal',kernel_regularizer=regularizers.l2(0.05))(f1)\n",
    "y=Dropout(0.5)(y)\n",
    "y = Dense(1024, activation='relu',kernel_initializer='glorot_normal',kernel_regularizer=regularizers.l2(0.05))(y)\n",
    "y=Dropout(0.5)(y)\n",
    "#y = Dense(1024, activation='relu',kernel_initializer='glorot_normal',kernel_regularizer=regularizers.l2(0.01),activity_regularizer=regularizers.l1(0.01))(y)\n",
    "#y=Dropout(0.5)(y)\n",
    "predictions = Dense(no_classes, activation='softmax',kernel_initializer='glorot_normal')(y)\n",
    "model = Model(inputs=input_layer, outputs=predictions)\n",
    "rms=RMSprop(lr=0.0001)\n",
    "model.compile(optimizer=rms, loss='categorical_crossentropy',metrics=['accuracy', 'top_k_categorical_accuracy'])"
   ]
  },
  {
   "cell_type": "code",
   "execution_count": null,
   "metadata": {
    "collapsed": true
   },
   "outputs": [],
   "source": [
    "# fit_generator doesn't work if this isn't executed. No idea why\n",
    "labels = []\n",
    "images = np.zeros((32,224,224,3))\n",
    "train = 1\n",
    "i = 0\n",
    "for idx, image_path in enumerate(x_train[32*i:32*(i+1)]):\n",
    "    img = image.img_to_array(image.load_img(path + str(image_path)))\n",
    "    images[idx] = img\n",
    "    if(train):\n",
    "        labels.append(y[idx])\n",
    "\n",
    "images = preprocess_input(images)\n",
    "features = inter_model.predict(images)"
   ]
  },
  {
   "cell_type": "code",
   "execution_count": null,
   "metadata": {
    "scrolled": true
   },
   "outputs": [],
   "source": [
    "model.fit_generator(generator1(x_train,y_train),steps_per_epoch=x_train.shape[0]//5, epochs = 50, validation_data = generator1(x_test,y_test),validation_steps = y_test.shape[0]//5,callbacks= [EarlyStopping(patience=4)])"
   ]
  },
  {
   "cell_type": "code",
   "execution_count": null,
   "metadata": {
    "collapsed": true
   },
   "outputs": [],
   "source": [
    "# fit_generator doesn't work if this isn't executed. No idea why\n",
    "labels = []\n",
    "images = np.zeros((32,224,224,3))\n",
    "train = 1\n",
    "i = 0\n",
    "for idx, image_path in enumerate(x_train[32*i:32*(i+1)]):\n",
    "    img = image.img_to_array(image.load_img(path + str(image_path)))\n",
    "    images[idx] = img\n",
    "    if(train):\n",
    "        labels.append(y[idx])\n",
    "\n",
    "images = preprocess_input(images)\n",
    "features = inter_model.predict(images)"
   ]
  },
  {
   "cell_type": "code",
   "execution_count": 40,
   "metadata": {},
   "outputs": [],
   "source": [
    "# fit_generator doesn't work if this isn't executed. No idea why\n",
    "images = np.zeros((5,224,224,3))\n",
    "i = 0\n",
    "mean = np.zeros((224,224,3))\n",
    "for idx, image_path in enumerate(x_train[5*i:5*(i+1)]):\n",
    "    img = image.img_to_array(image.load_img(path + str(image_path)))\n",
    "    images[idx] = img\n",
    "    mean+=img\n",
    "\n",
    "images = preprocess_input(images)"
   ]
  },
  {
   "cell_type": "code",
   "execution_count": 42,
   "metadata": {},
   "outputs": [
    {
     "data": {
      "text/plain": [
       "array([[[252., 252., 252.],\n",
       "        [252., 252., 252.],\n",
       "        [252., 252., 252.],\n",
       "        ...,\n",
       "        [252., 252., 252.],\n",
       "        [252., 252., 252.],\n",
       "        [252., 252., 252.]],\n",
       "\n",
       "       [[252., 252., 252.],\n",
       "        [252., 252., 252.],\n",
       "        [252., 252., 252.],\n",
       "        ...,\n",
       "        [252., 252., 252.],\n",
       "        [252., 252., 252.],\n",
       "        [252., 252., 252.]],\n",
       "\n",
       "       [[252., 252., 252.],\n",
       "        [252., 252., 252.],\n",
       "        [252., 252., 252.],\n",
       "        ...,\n",
       "        [252., 252., 252.],\n",
       "        [252., 252., 252.],\n",
       "        [252., 252., 252.]],\n",
       "\n",
       "       ...,\n",
       "\n",
       "       [[252., 252., 252.],\n",
       "        [252., 252., 252.],\n",
       "        [252., 252., 252.],\n",
       "        ...,\n",
       "        [252., 252., 252.],\n",
       "        [252., 252., 252.],\n",
       "        [252., 252., 252.]],\n",
       "\n",
       "       [[252., 252., 252.],\n",
       "        [252., 252., 252.],\n",
       "        [252., 252., 252.],\n",
       "        ...,\n",
       "        [252., 252., 252.],\n",
       "        [252., 252., 252.],\n",
       "        [252., 252., 252.]],\n",
       "\n",
       "       [[252., 252., 252.],\n",
       "        [252., 252., 252.],\n",
       "        [252., 252., 252.],\n",
       "        ...,\n",
       "        [252., 252., 252.],\n",
       "        [252., 252., 252.],\n",
       "        [252., 252., 252.]]])"
      ]
     },
     "execution_count": 42,
     "metadata": {},
     "output_type": "execute_result"
    }
   ],
   "source": [
    "images[0] + [103.939, 116.779, 123.68]"
   ]
  },
  {
   "cell_type": "code",
   "execution_count": 25,
   "metadata": {},
   "outputs": [
    {
     "data": {
      "text/plain": [
       "-15941853.0"
      ]
     },
     "execution_count": 25,
     "metadata": {},
     "output_type": "execute_result"
    }
   ],
   "source": []
  },
  {
   "cell_type": "code",
   "execution_count": null,
   "metadata": {
    "collapsed": true
   },
   "outputs": [],
   "source": []
  }
 ],
 "metadata": {
  "kernelspec": {
   "display_name": "Python 3",
   "language": "python",
   "name": "python3"
  },
  "language_info": {
   "codemirror_mode": {
    "name": "ipython",
    "version": 3
   },
   "file_extension": ".py",
   "mimetype": "text/x-python",
   "name": "python",
   "nbconvert_exporter": "python",
   "pygments_lexer": "ipython3",
   "version": "3.5.3"
  }
 },
 "nbformat": 4,
 "nbformat_minor": 2
}
