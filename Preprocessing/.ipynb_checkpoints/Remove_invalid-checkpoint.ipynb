{
 "cells": [
  {
   "cell_type": "code",
   "execution_count": 1,
   "metadata": {},
   "outputs": [
    {
     "name": "stderr",
     "output_type": "stream",
     "text": [
      "Using TensorFlow backend.\n",
      "C:\\Users\\lenovo\\Anaconda3\\envs\\py35\\lib\\site-packages\\h5py\\__init__.py:34: FutureWarning: Conversion of the second argument of issubdtype from `float` to `np.floating` is deprecated. In future, it will be treated as `np.float64 == np.dtype(float).type`.\n",
      "  from ._conv import register_converters as _register_converters\n"
     ]
    }
   ],
   "source": [
    "import pandas as pd \n",
    "import numpy as np\n",
    "from PIL import Image\n",
    "from sklearn import preprocessing\n",
    "from keras.preprocessing import image\n",
    "from sklearn.model_selection import train_test_split\n",
    "from keras.utils import to_categorical"
   ]
  },
  {
   "cell_type": "code",
   "execution_count": 2,
   "metadata": {
    "collapsed": true
   },
   "outputs": [],
   "source": [
    "path = \"C:/Users/lenovo/Documents/CS/6Sem/CG/newtrain/\"\n",
    "data = pd.read_csv(\"C:/Users/lenovo/Documents/CS/6Sem/CG/all_data_info.csv\")"
   ]
  },
  {
   "cell_type": "code",
   "execution_count": 3,
   "metadata": {
    "collapsed": true
   },
   "outputs": [],
   "source": [
    "# Selects artists who occur more than 300 times\n",
    "X = data.groupby('artist').filter(lambda x: len(x) >= 350)"
   ]
  },
  {
   "cell_type": "code",
   "execution_count": 4,
   "metadata": {},
   "outputs": [
    {
     "data": {
      "text/plain": [
       "(24871, 12)"
      ]
     },
     "execution_count": 4,
     "metadata": {},
     "output_type": "execute_result"
    }
   ],
   "source": [
    "X.shape"
   ]
  },
  {
   "cell_type": "code",
   "execution_count": 5,
   "metadata": {
    "collapsed": true
   },
   "outputs": [],
   "source": [
    "# Selects 300 instances per artist\n",
    "X_new = X.groupby('artist', as_index=False).apply(lambda array: array.loc[np.random.choice(array.index, 300, False),:])"
   ]
  },
  {
   "cell_type": "code",
   "execution_count": 6,
   "metadata": {},
   "outputs": [
    {
     "data": {
      "text/plain": [
       "(17100, 12)"
      ]
     },
     "execution_count": 6,
     "metadata": {},
     "output_type": "execute_result"
    }
   ],
   "source": [
    "X_new.shape"
   ]
  },
  {
   "cell_type": "code",
   "execution_count": 7,
   "metadata": {
    "collapsed": true
   },
   "outputs": [],
   "source": [
    "x = X_new.new_filename\n",
    "y = X_new.artist"
   ]
  },
  {
   "cell_type": "code",
   "execution_count": 8,
   "metadata": {
    "collapsed": true
   },
   "outputs": [],
   "source": [
    "labels = []\n",
    "mean = np.zeros((224,224,3))"
   ]
  },
  {
   "cell_type": "code",
   "execution_count": 9,
   "metadata": {},
   "outputs": [
    {
     "name": "stdout",
     "output_type": "stream",
     "text": [
      "0\n",
      "2000\n",
      "4000\n",
      "6000\n",
      "8000\n",
      "10000\n",
      "12000\n",
      "14000\n",
      "16000\n"
     ]
    }
   ],
   "source": [
    "i1 = 0\n",
    "for i in range(x.shape[0]):\n",
    "    image_name = path + str(x.iloc[i1])\n",
    "    try:\n",
    "        img = image.load_img(image_name)\n",
    "        labels.append(y.iloc[i1])\n",
    "        mean += image.img_to_array(img)\n",
    "        i1 += 1\n",
    "    except Exception as err:\n",
    "        print(\"Image not found: \" + str(image_name))\n",
    "        print(err)\n",
    "        x = x.drop(x.index[i1])\n",
    "        y = y.drop(y.index[i1])\n",
    "    if i % 2000 == 0:\n",
    "        print(i)\n",
    "mean1 = mean/x.shape[0]"
   ]
  },
  {
   "cell_type": "code",
   "execution_count": 10,
   "metadata": {},
   "outputs": [
    {
     "name": "stdout",
     "output_type": "stream",
     "text": [
      "[[[153.26666667 147.10555556 135.54812865]\n",
      "  [152.16403509 145.95146199 134.37064327]\n",
      "  [151.92444444 145.68912281 134.08339181]\n",
      "  ...\n",
      "  [153.17368421 146.63649123 134.83695906]\n",
      "  [153.8097076  147.26064327 135.40146199]\n",
      "  [155.31836257 148.80385965 136.91888889]]\n",
      "\n",
      " [[151.43070175 145.26842105 133.66210526]\n",
      "  [150.17824561 143.94087719 132.28748538]\n",
      "  [150.02900585 143.75251462 132.06754386]\n",
      "  ...\n",
      "  [151.58573099 144.97491228 133.08192982]\n",
      "  [152.27409357 145.6625731  133.75204678]\n",
      "  [153.89274854 147.32064327 135.41415205]]\n",
      "\n",
      " [[150.85649123 144.73912281 133.15321637]\n",
      "  [149.41093567 143.18005848 131.50397661]\n",
      "  [148.75315789 142.4928655  130.77912281]\n",
      "  ...\n",
      "  [150.86888889 144.2419883  132.27099415]\n",
      "  [151.2794152  144.62280702 132.66766082]\n",
      "  [153.51730994 146.91339181 134.99672515]]\n",
      "\n",
      " ...\n",
      "\n",
      " [[140.4825731  128.79847953 112.12385965]\n",
      "  [138.13280702 126.23643275 109.43011696]\n",
      "  [136.96450292 124.88093567 107.97526316]\n",
      "  ...\n",
      "  [137.09988304 124.85432749 108.07619883]\n",
      "  [138.32345029 126.20637427 109.50695906]\n",
      "  [140.0074269  128.01567251 111.45397661]]\n",
      "\n",
      " [[141.35918129 129.7119883  113.14163743]\n",
      "  [139.16134503 127.32216374 110.63315789]\n",
      "  [138.28923977 126.24438596 109.45099415]\n",
      "  ...\n",
      "  [138.57374269 126.39684211 109.70625731]\n",
      "  [139.63280702 127.58011696 110.99163743]\n",
      "  [140.73315789 128.79298246 112.27309942]]\n",
      "\n",
      " [[142.92011696 131.33935673 114.92374269]\n",
      "  [140.91842105 129.16005848 112.62      ]\n",
      "  [140.30590643 128.37368421 111.72830409]\n",
      "  ...\n",
      "  [141.16649123 129.06157895 112.50532164]\n",
      "  [141.31748538 129.34842105 112.86994152]\n",
      "  [142.77122807 130.91081871 114.4977193 ]]]\n"
     ]
    }
   ],
   "source": [
    "print(mean1)"
   ]
  },
  {
   "cell_type": "code",
   "execution_count": 11,
   "metadata": {
    "collapsed": true
   },
   "outputs": [],
   "source": [
    "xnp = np.array(x)"
   ]
  },
  {
   "cell_type": "code",
   "execution_count": 12,
   "metadata": {
    "collapsed": true
   },
   "outputs": [],
   "source": [
    "ynp = np.array(y)"
   ]
  },
  {
   "cell_type": "code",
   "execution_count": 16,
   "metadata": {
    "collapsed": true
   },
   "outputs": [],
   "source": [
    "x_train, x_test, labels_train, labels_test = train_test_split(xnp, ynp, test_size=0.2, stratify = ynp , random_state = 2)"
   ]
  },
  {
   "cell_type": "code",
   "execution_count": 17,
   "metadata": {},
   "outputs": [
    {
     "data": {
      "text/plain": [
       "((13680,), (3420,), (13680,), (3420,))"
      ]
     },
     "execution_count": 17,
     "metadata": {},
     "output_type": "execute_result"
    }
   ],
   "source": [
    "print(x_train.shape, x_test.shape, labels_train.shape, labels_test.shape)"
   ]
  },
  {
   "cell_type": "code",
   "execution_count": 18,
   "metadata": {
    "collapsed": true
   },
   "outputs": [],
   "source": [
    "x_cv, x_test, labels_cv, labels_test = train_test_split(x_test, labels_test, test_size=0.5, stratify = labels_test , random_state = 2)"
   ]
  },
  {
   "cell_type": "code",
   "execution_count": 19,
   "metadata": {},
   "outputs": [
    {
     "name": "stdout",
     "output_type": "stream",
     "text": [
      "(1710,) (1710,) (1710,) (1710,)\n"
     ]
    }
   ],
   "source": [
    "print(x_cv.shape, x_test.shape, labels_cv.shape, labels_test.shape)"
   ]
  },
  {
   "cell_type": "code",
   "execution_count": 20,
   "metadata": {
    "collapsed": true
   },
   "outputs": [],
   "source": [
    "np.save('x_train.npy', x_train)\n",
    "np.save('x_test.npy', x_train)\n",
    "np.save('x_cv.npy', x_cv)\n",
    "np.save('y_train.npy', labels_train)\n",
    "np.save('y_test.npy', labels_test)\n",
    "np.save('y_cv.npy', labels_cv)\n",
    "np.save('mean.npy',mean1)"
   ]
  },
  {
   "cell_type": "code",
   "execution_count": null,
   "metadata": {
    "collapsed": true
   },
   "outputs": [],
   "source": []
  }
 ],
 "metadata": {
  "kernelspec": {
   "display_name": "Python 3",
   "language": "python",
   "name": "python3"
  },
  "language_info": {
   "codemirror_mode": {
    "name": "ipython",
    "version": 3
   },
   "file_extension": ".py",
   "mimetype": "text/x-python",
   "name": "python",
   "nbconvert_exporter": "python",
   "pygments_lexer": "ipython3",
   "version": "3.5.3"
  }
 },
 "nbformat": 4,
 "nbformat_minor": 2
}
